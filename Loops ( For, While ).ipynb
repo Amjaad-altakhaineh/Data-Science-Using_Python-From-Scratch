{
 "cells": [
  {
   "cell_type": "markdown",
   "metadata": {},
   "source": [
    "# Loops \n",
    "\n",
    "Life is full of routines. In programming we also do lots of repetitive tasks. In order to handle repetitive task programming languages use loops. Python programming language also provides the following types of two loops:\n",
    "\n",
    "1. while loop\n",
    "2. for loop\n"
   ]
  },
  {
   "cell_type": "markdown",
   "metadata": {},
   "source": [
    "# While Loop\n",
    "We use the reserved word while to make a while loop. It is used to execute a block of statements repeatedly until a given condition is satisfied. When the condition becomes false, the lines of code after the loop will be continued to be executed."
   ]
  },
  {
   "cell_type": "code",
   "execution_count": null,
   "metadata": {},
   "outputs": [],
   "source": [
    "  # syntax\n",
    "while condition:\n",
    "    code goes here"
   ]
  },
  {
   "cell_type": "code",
   "execution_count": null,
   "metadata": {},
   "outputs": [],
   "source": [
    "count = 0\n",
    "while count < 5:\n",
    "    print(count)\n",
    "    count = count + 1\n",
    "#prints from 0 to 4"
   ]
  },
  {
   "cell_type": "markdown",
   "metadata": {},
   "source": [
    "In the above while loop, the condition becomes false when count is 5. That is when the loop stops. If we are interested to run block of code once the condition is no longer true, we can use else."
   ]
  },
  {
   "cell_type": "code",
   "execution_count": null,
   "metadata": {},
   "outputs": [],
   "source": [
    "  # syntax\n",
    "while condition:\n",
    "    code goes here\n",
    "else:\n",
    "    code goes here"
   ]
  },
  {
   "cell_type": "code",
   "execution_count": null,
   "metadata": {},
   "outputs": [],
   "source": [
    "count = 0\n",
    "while count < 5:\n",
    "    print(count)\n",
    "    count = count + 1\n",
    "else:\n",
    "    print(count)"
   ]
  },
  {
   "cell_type": "markdown",
   "metadata": {},
   "source": [
    "The above loop condition will be false when count is 5 and the loop stops, and execution starts the else statement. As a result 5 will be printed.\n",
    "\n",
    "## Break and Continue - Part 1\n",
    "\n",
    "* Break: We use break when we like to get out of or stop the loop."
   ]
  },
  {
   "cell_type": "code",
   "execution_count": null,
   "metadata": {},
   "outputs": [],
   "source": [
    "# syntax\n",
    "while condition:\n",
    "    code goes here\n",
    "    if another_condition:\n",
    "        break"
   ]
  },
  {
   "cell_type": "code",
   "execution_count": null,
   "metadata": {},
   "outputs": [],
   "source": [
    "count = 0\n",
    "while count < 5:\n",
    "    print(count)\n",
    "    count = count + 1\n",
    "    if count == 3:\n",
    "        break"
   ]
  },
  {
   "cell_type": "markdown",
   "metadata": {},
   "source": [
    "The above while loop only prints 0, 1, 2 and 4 (skips 3).\n",
    "\n",
    "# For Loop\n",
    "A for keyword is used to make a for loop, similar with other programming languages, but with some syntax differences. Loop is used for iterating over a sequence (that is either a list, a tuple, a dictionary, a set, or a string)."
   ]
  },
  {
   "cell_type": "code",
   "execution_count": null,
   "metadata": {},
   "outputs": [],
   "source": [
    "numbers = [0, 1, 2, 3, 4, 5]\n",
    "for number in numbers: # number is temporary name to refer to the list's items, valid only inside this loop\n",
    "    print(number)       # the numbers will be printed line by line, from 0 to 5"
   ]
  },
  {
   "cell_type": "code",
   "execution_count": null,
   "metadata": {},
   "outputs": [],
   "source": [
    "language = 'Python'\n",
    "for letter in language:\n",
    "    print(letter)\n",
    "\n",
    "\n",
    "for i in range(len(language)):\n",
    "    print(language[i])"
   ]
  },
  {
   "cell_type": "code",
   "execution_count": null,
   "metadata": {},
   "outputs": [],
   "source": [
    "numbers = (0, 1, 2, 3, 4, 5)\n",
    "for number in numbers:\n",
    "    print(number)"
   ]
  },
  {
   "cell_type": "code",
   "execution_count": null,
   "metadata": {},
   "outputs": [],
   "source": [
    "person = {\n",
    "    'first_name':'Asabeneh',\n",
    "    'last_name':'Yetayeh',\n",
    "    'age':250,\n",
    "    'country':'Finland',\n",
    "    'is_marred':True,\n",
    "    'skills':['JavaScript', 'React', 'Node', 'MongoDB', 'Python'],\n",
    "    'address':{\n",
    "        'street':'Space street',\n",
    "        'zipcode':'02210'\n",
    "    }\n",
    "}\n",
    "for key in person:\n",
    "    print(key)\n",
    "\n",
    "for key, value in person.items():\n",
    "    print(key, value) # this way we get both keys and values printed out"
   ]
  },
  {
   "cell_type": "markdown",
   "metadata": {},
   "source": [
    "## Break and Continue - Part 2\n",
    "* Short reminder: Break: We use break when we like to stop our loop before it is completed."
   ]
  },
  {
   "cell_type": "code",
   "execution_count": null,
   "metadata": {},
   "outputs": [],
   "source": [
    "numbers = (0,1,2,3,4,5)\n",
    "for number in numbers:\n",
    "    print(number)\n",
    "    if number == 3:\n",
    "        break"
   ]
  },
  {
   "cell_type": "markdown",
   "metadata": {},
   "source": [
    "In the above example, the loop stops when it reaches 3.\n",
    "\n",
    "Continue: We use continue when we like to skip some of the steps in the iteration of the loop"
   ]
  },
  {
   "cell_type": "code",
   "execution_count": null,
   "metadata": {},
   "outputs": [],
   "source": [
    "numbers = (0,1,2,3,4,5)\n",
    "for number in numbers:\n",
    "    print(number)\n",
    "    if number == 3:\n",
    "        continue\n",
    "    print('Next number should be ', number + 1) if number != 5 else print(\"loop's end\") # for short hand conditions need both if and else statements\n",
    "print('outside the loop')"
   ]
  },
  {
   "cell_type": "markdown",
   "metadata": {},
   "source": [
    "In the example above, if the number equals 3, the step after the condition (but inside the loop) is skipped and the execution of the loop continues if there are any iterations left.\n",
    "\n",
    "# The Range Function\n",
    "The range() function is used list of numbers. The range(start, end, step) takes three parameters: starting, ending and increment. By default it starts from 0 and the increment is 1. The range sequence needs at least 1 argument (end). Creating sequences using range"
   ]
  },
  {
   "cell_type": "code",
   "execution_count": null,
   "metadata": {},
   "outputs": [],
   "source": [
    "lst = list(range(11)) \n",
    "print(lst) # [0, 1, 2, 3, 4, 5, 6, 7, 8, 9, 10]\n",
    "st = set(range(1, 11))    # 2 arguments indicate start and end of the sequence, step set to default 1\n",
    "print(st) # {1, 2, 3, 4, 5, 6, 7, 8, 9, 10}\n",
    "\n",
    "lst = list(range(0,11,2))\n",
    "print(lst) # [0, 2, 4, 6, 8, 10]\n",
    "st = set(range(0,11,2))\n",
    "print(st) #  {0, 2, 4, 6, 8, 10}"
   ]
  },
  {
   "cell_type": "code",
   "execution_count": null,
   "metadata": {},
   "outputs": [],
   "source": [
    "for number in range(11):\n",
    "    print(number)   #"
   ]
  },
  {
   "cell_type": "markdown",
   "metadata": {},
   "source": [
    "## Nested For Loop\n",
    "We can write loops inside a loop."
   ]
  },
  {
   "cell_type": "code",
   "execution_count": null,
   "metadata": {},
   "outputs": [],
   "source": [
    "person = {\n",
    "    'first_name': 'Asabeneh',\n",
    "    'last_name': 'Yetayeh',\n",
    "    'age': 250,\n",
    "    'country': 'Finland',\n",
    "    'is_marred': True,\n",
    "    'skills': ['JavaScript', 'React', 'Node', 'MongoDB', 'Python'],\n",
    "    'address': {\n",
    "        'street': 'Space street',\n",
    "        'zipcode': '02210'\n",
    "    }\n",
    "}\n",
    "for key in person:\n",
    "    if key == 'skills':\n",
    "        for skill in person['skills']:\n",
    "            print(skill)"
   ]
  },
  {
   "cell_type": "markdown",
   "metadata": {},
   "source": [
    "## Pass\n",
    "In python when statement is required (after semicolon), but we don't like to execute any code there, we can write the word pass to avoid errors. Also we can use it as a placeholder, for future statements."
   ]
  },
  {
   "cell_type": "code",
   "execution_count": null,
   "metadata": {},
   "outputs": [],
   "source": [
    "for number in range(6):\n",
    "    pass"
   ]
  },
  {
   "cell_type": "markdown",
   "metadata": {},
   "source": [
    "# Examples "
   ]
  },
  {
   "cell_type": "code",
   "execution_count": null,
   "metadata": {},
   "outputs": [],
   "source": [
    "v=5\n",
    "\n",
    "if v>=50: # 1st body\n",
    "  print(\"pass\") # out pass\n",
    "  if v==50:\n",
    "    print(\"CR\") # out CR\n",
    "  elif v==100:\n",
    "    print(\"Prize\")\n",
    "\n",
    "else:\n",
    "  print(\"Fail\")\n",
    "  if v<10:\n",
    "    print(\"Loser\")"
   ]
  },
  {
   "cell_type": "code",
   "execution_count": null,
   "metadata": {},
   "outputs": [],
   "source": [
    "# Ki 10/10\n",
    "num1= 5\n",
    "num2= int(input(\"enter the num2\"))\n",
    "if num2!= 0:\n",
    "  print (num1/num2)\n",
    "else :\n",
    "  print (\"Math error\")"
   ]
  },
  {
   "cell_type": "code",
   "execution_count": null,
   "metadata": {},
   "outputs": [],
   "source": [
    "inp = input(\"Enter Denominator: \")\n",
    "d = int(inp)\n",
    "if(d != 0):\n",
    "  print(f\"10/{d} = \",(10/d))\n",
    "else:\n",
    "  print(\"Cannot divide by zero!\")"
   ]
  },
  {
   "cell_type": "code",
   "execution_count": null,
   "metadata": {},
   "outputs": [],
   "source": [
    "q=int(input(\"einter F_num\"))\n",
    "w=int(input(\"einter S_num\"))\n",
    "if w==0:\n",
    "    (\"error\")\n",
    "else:\n",
    "   print(q/w)"
   ]
  },
  {
   "cell_type": "code",
   "execution_count": null,
   "metadata": {},
   "outputs": [],
   "source": [
    "num=int(input())\n",
    "a=5\n",
    "if num==0:\n",
    "  print(\"math error\")\n",
    "else:\n",
    " print(a/num)"
   ]
  },
  {
   "cell_type": "code",
   "execution_count": null,
   "metadata": {},
   "outputs": [],
   "source": [
    "the_place = int(input(\"enter number the_place \"))\n",
    "numerator=5\n",
    "#put user next enter\n",
    "if not the_place==0 :\n",
    "     print(\"the reuslt of of printing is \",numerator/the_place)\n",
    "else:\n",
    "     print(\"wrong process please enter a number not zero\")"
   ]
  },
  {
   "cell_type": "code",
   "execution_count": null,
   "metadata": {},
   "outputs": [],
   "source": [
    "# For Loop\n",
    "\n",
    "\n",
    "q=[1,2,3,\"ali\",3.5] # Looping 1\n",
    "\n",
    "for i in q:\n",
    "  print(i)"
   ]
  },
  {
   "cell_type": "code",
   "execution_count": null,
   "metadata": {},
   "outputs": [],
   "source": [
    "q=[1,2,3,\"ali\",3.5] # Looping 1\n",
    "\n",
    "for i in range(len(q)):# [0, 1 , 2, 3 ,4]\n",
    "  print(q[i])# q[0] =1 , q[1] =2, q[2]=3 , q[3]=ali, q[4]=3.5\n",
    "\n",
    "\n",
    "\n"
   ]
  },
  {
   "cell_type": "code",
   "execution_count": null,
   "metadata": {},
   "outputs": [],
   "source": [
    "cars=[\"audi\",\"bmw\", \"toyota\"]\n",
    "\n",
    "for i in range(0,3):# [0,1,2] # range(3)=range(0,3)\n",
    "  k=cars[i]\n",
    "  if k ==\"bmw\":\n",
    "    print(k.upper())\n",
    "  else:\n",
    "    print(k)\n",
    "\n"
   ]
  },
  {
   "cell_type": "code",
   "execution_count": null,
   "metadata": {},
   "outputs": [],
   "source": [
    "cars=[\"adui\",\"bmw\",\"toyota\"]\n",
    "for i in range(0,3): #[0,1,2]\n",
    " k=cars[i]\n",
    " if k==\"bmw\":\n",
    "  print(k.upper())\n",
    " else:\n",
    "  print(k)"
   ]
  },
  {
   "cell_type": "code",
   "execution_count": null,
   "metadata": {},
   "outputs": [],
   "source": [
    "list1 = ['ali','sami','muna' ]\n",
    "list2 = []\n",
    "for i in range(len(list1)-1) :# [0,1,2] ====[0,1]\n",
    "  t=list1[i]\n",
    "  if t =='ali':\n",
    "   list2.append('ali')\n",
    "   list1.remove('ali')\n",
    "print('list1    ',list1)\n",
    "print('list2     ',list2)"
   ]
  },
  {
   "cell_type": "code",
   "execution_count": null,
   "metadata": {},
   "outputs": [],
   "source": [
    "list1 = ['ali','sami','aaa', 'a' ]\n",
    "list2 = []\n",
    "for i in list1 :\n",
    "  if i =='ali':\n",
    "   list2.append('ali')\n",
    "   list1.remove('ali')\n",
    "print('list1    ',list1)"
   ]
  },
  {
   "cell_type": "code",
   "execution_count": null,
   "metadata": {},
   "outputs": [],
   "source": [
    "ls1 = [\"Ali\" , \"Samni\" , \"Muna\"]\n",
    "ls2=[]\n",
    "\n",
    "for i in range( 0,3-1) :\n",
    "  ls = ls1[i]\n",
    "  if ls == \"Ali\" :\n",
    "    ls2.append(\"Ali\")\n",
    "    ls1.remove(\"Ali\")\n",
    "print (\"the first list is\" , ls1)\n",
    "print (\"the second list is\" , ls2)"
   ]
  },
  {
   "cell_type": "code",
   "execution_count": null,
   "metadata": {},
   "outputs": [],
   "source": [
    "Ls1=[\"Ali\",\"Sami\",\"Muna\"]\n",
    "Ls2=[]\n",
    "for item in Ls1:\n",
    "  if item == \"Ali\":\n",
    "   Ls2.append(\"Ali\")\n",
    "   Ls1.remove(\"Ali\")\n",
    "print(\"after:\" , Ls2 ,\"\\n\", Ls1)\n",
    "\n"
   ]
  },
  {
   "cell_type": "code",
   "execution_count": null,
   "metadata": {},
   "outputs": [],
   "source": [
    "lst1=[\"ali\", \"sami\",\"muna\"]\n",
    "lst2=[]\n",
    "for i in range(len(lst1)-1):\n",
    "  x=lst1[i]\n",
    "  if x==\"ali\":\n",
    "    lst2.append(\"ali\")\n",
    "    lst1.remove(\"ali\")\n",
    "    print(\"lst2 : \",lst2)\n",
    "    print(\"ls1 : \",lst1)"
   ]
  },
  {
   "cell_type": "code",
   "execution_count": null,
   "metadata": {},
   "outputs": [],
   "source": [
    "l=[\"ali\",\"sami\",'muna']\n",
    "r=[]\n",
    "for i in range(len(l)-1): #[0,1,2]\n",
    "    if l[i]==\"ali\":\n",
    "        poped=l.pop(i)\n",
    "        r.append(poped)\n",
    "print(l)\n",
    "print(r)"
   ]
  },
  {
   "cell_type": "code",
   "execution_count": null,
   "metadata": {},
   "outputs": [],
   "source": [
    "dic1={\"apple\":0.4, \"orange\":0.35, \"banana\":0.25}\n",
    "\n",
    "\n",
    "print(dic1.keys())\n",
    "print(dic1.values())\n",
    "\n",
    "print(dic1.items())"
   ]
  },
  {
   "cell_type": "code",
   "execution_count": null,
   "metadata": {},
   "outputs": [],
   "source": [
    "dic1={\"apple\":0.4, \"orange\":0.35, \"banana\":0.25}\n",
    "\n",
    "\n",
    "for i in dic1.keys():\n",
    "  print(i)\n",
    "\n",
    "for h in dic1.values():\n",
    "  print(h)\n",
    "\n",
    "for r,m in dic1.items():\n",
    "  print(r, \"\\n\", m)"
   ]
  },
  {
   "cell_type": "code",
   "execution_count": null,
   "metadata": {},
   "outputs": [],
   "source": [
    "dic1={\"apple\":40, \"orange\":100, \"banana\":30}\n",
    "\n",
    "for i  in list(dic1.keys()).copy():# [apple, orange, banana]\n",
    "  if dic1[i]>50:\n",
    "   del dic1[i]\n",
    "print(dic1)\n"
   ]
  },
  {
   "cell_type": "code",
   "execution_count": null,
   "metadata": {},
   "outputs": [],
   "source": [
    "a = {'orange': 10, 'banana':100, 'apple': 20 }\n",
    "for key, value in list(a.items()):\n",
    "    if value>50:\n",
    "        del a[key]\n",
    "print(a)"
   ]
  },
  {
   "cell_type": "markdown",
   "metadata": {},
   "source": [
    "## Exercises:\n",
    "\n",
    "### Exercises: Level 1\n",
    "\n",
    "1. Iterate 0 to 10 using for loop, do the same using while loop.\n",
    "2. Iterate 10 to 0 using for loop, do the same using while loop.\n",
    "3. Write a loop that makes seven calls to print(), so we get on the output the following triangle:\n"
   ]
  },
  {
   "cell_type": "code",
   "execution_count": null,
   "metadata": {},
   "outputs": [],
   "source": [
    "  #\n",
    "  ##\n",
    "  ###\n",
    "  ####\n",
    "  #####\n",
    "  ######\n",
    "  #######"
   ]
  },
  {
   "cell_type": "markdown",
   "metadata": {},
   "source": [
    "4. Use nested loops to create the following:\n"
   ]
  },
  {
   "cell_type": "code",
   "execution_count": null,
   "metadata": {},
   "outputs": [],
   "source": [
    "# # # # # # # #\n",
    "# # # # # # # #\n",
    "# # # # # # # #\n",
    "# # # # # # # #\n",
    "# # # # # # # #\n",
    "# # # # # # # #\n",
    "# # # # # # # #\n",
    "# # # # # # # #"
   ]
  },
  {
   "cell_type": "markdown",
   "metadata": {},
   "source": [
    "5. Print the following pattern:\n"
   ]
  },
  {
   "cell_type": "code",
   "execution_count": null,
   "metadata": {},
   "outputs": [],
   "source": [
    "0 x 0 = 0\n",
    "1 x 1 = 1\n",
    "2 x 2 = 4\n",
    "3 x 3 = 9\n",
    "4 x 4 = 16\n",
    "5 x 5 = 25\n",
    "6 x 6 = 36\n",
    "7 x 7 = 49\n",
    "8 x 8 = 64\n",
    "9 x 9 = 81\n",
    "10 x 10 = 100"
   ]
  },
  {
   "cell_type": "markdown",
   "metadata": {},
   "source": [
    "6. Iterate through the list, `['Python', 'Numpy','Pandas','Django', 'Flask']` using a for loop and print out the items.\n",
    "7. Use a for loop to iterate from 0 to 100 and print only even numbers.\n",
    "8. Use a for loop to iterate from 0 to 100 and print only odd numbers.\n",
    "\n",
    "### Exercises: Level 2\n",
    "\n",
    "9. Use a for loop to iterate from 0 to 100 and print the sum of all numbers.\n",
    "10. Use a for loop to iterate from 0 to 100 and print the sum of all evens and the sum of all odds.\n",
    "\n",
    "### Exercises: Level 3\n",
    "\n",
    "11. Go to the data folder and use the `countries.py` file. Loop through the countries and extract all the countries containing the word \"land\".\n",
    "12. This is a fruit list, `['banana', 'orange', 'mango', 'lemon']`. Reverse the order using a loop.\n",
    "13. Go to the data folder and use the `countries_data.py` file.\n",
    " - What are the total number of languages in the data?\n",
    " - Find the ten most spoken languages from the data.\n",
    " - Find the 10 most populated countries in the world.\n"
   ]
  },
  {
   "cell_type": "markdown",
   "metadata": {},
   "source": []
  }
 ],
 "metadata": {
  "language_info": {
   "name": "python"
  }
 },
 "nbformat": 4,
 "nbformat_minor": 2
}
