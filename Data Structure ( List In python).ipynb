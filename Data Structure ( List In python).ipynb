{
 "cells": [
  {
   "cell_type": "markdown",
   "metadata": {},
   "source": [
    "# Data Structure ( List In python)"
   ]
  },
  {
   "cell_type": "markdown",
   "metadata": {},
   "source": [
    "# Table of Contents\n",
    "\n",
    "- [Lists](#lists)\n",
    "  - [How to Create a List](#how-to-create-a-list)\n",
    "  - [Accessing List Items Using Positive Indexing](#accessing-list-items-using-positive-indexing)\n",
    "  - [Accessing List Items Using Negative Indexing](#accessing-list-items-using-negative-indexing)\n",
    "  - [Unpacking List Items](#unpacking-list-items)\n",
    "  - [Slicing Items from a List](#slicing-items-from-a-list)\n",
    "  - [Modifying Lists](#modifying-lists)\n",
    "  - [Checking Items in a List](#checking-items-in-a-list)\n",
    "  - [Adding Items to a List](#adding-items-to-a-list)\n",
    "  - [Inserting Items into a List](#inserting-items-into-a-list)\n",
    "  - [Removing Items from a List](#removing-items-from-a-list)\n",
    "  - [Removing Items Using Pop](#removing-items-using-pop)\n",
    "  - [Removing Items Using Del](#removing-items-using-del)\n",
    "  - [Clearing List Items](#clearing-list-items)\n",
    "  - [Copying a List](#copying-a-list)\n",
    "  - [Joining Lists](#joining-lists)\n",
    "  - [Counting Items in a List](#counting-items-in-a-list)\n",
    "  - [Finding Index of an Item](#finding-index-of-an-item)\n",
    "  - [Reversing a List](#reversing-a-list)\n",
    "  - [Sorting List Items](#sorting-list-items)\n",
    "- 💻 [Exercises](#exercises-day-5)\n",
    "  - [Exercises: Level 1](#exercises-level-1)\n",
    "  - [Exercises: Level 2](#exercises-level-2)\n"
   ]
  },
  {
   "cell_type": "markdown",
   "metadata": {},
   "source": [
    "## Lists\n",
    "________________________\n",
    "There are four collection data types in Python :\n",
    "\n",
    "- ist: is a collection which is ordered and changeable(modifiable). Allows duplicate members.\n",
    "- Tuple: is a collection which is ordered and unchangeable or unmodifiable(immutable). Allows duplicate members.\n",
    "- Set: is a collection which is unordered, un-indexed and unmodifiable, but we can add new items to the set. Duplicate members are not allowed.\n",
    "- Dictionary: is a collection which is unordered, changeable(modifiable) and indexed. No duplicate members.\n",
    "A list is collection of different data types which is ordered and modifiable(mutable). A list can be empty or it may have different data type items.\n",
    "\n",
    "### How to Create a List\n",
    "\n",
    "In Python we can create lists in two ways:\n",
    "\n",
    "- Using list built-in function"
   ]
  },
  {
   "cell_type": "code",
   "execution_count": null,
   "metadata": {},
   "outputs": [],
   "source": [
    "# syntax\n",
    "lst = list()"
   ]
  },
  {
   "cell_type": "code",
   "execution_count": null,
   "metadata": {},
   "outputs": [],
   "source": [
    "empty_list = list() # this is an empty list, no item in the list\n",
    "print(len(empty_list)) # 0"
   ]
  },
  {
   "cell_type": "markdown",
   "metadata": {},
   "source": [
    "Lists with initial values. We use len() to find the length of a list.\n",
    "\n"
   ]
  },
  {
   "cell_type": "code",
   "execution_count": 1,
   "metadata": {},
   "outputs": [
    {
     "name": "stdout",
     "output_type": "stream",
     "text": [
      "Fruits: ['banana', 'orange', 'mango', 'lemon']\n",
      "Number of fruits: 4\n",
      "Vegetables: ['Tomato', 'Potato', 'Cabbage', 'Onion', 'Carrot']\n",
      "Number of vegetables: 5\n",
      "Animal products: ['milk', 'meat', 'butter', 'yoghurt']\n",
      "Number of animal products: 4\n",
      "Web technologies: ['HTML', 'CSS', 'JS', 'React', 'Redux', 'Node', 'MongDB']\n",
      "Number of web technologies: 7\n",
      "Countries: ['Finland', 'Estonia', 'Denmark', 'Sweden', 'Norway']\n",
      "Number of countries: 5\n"
     ]
    }
   ],
   "source": [
    "fruits = ['banana', 'orange', 'mango', 'lemon']                     # list of fruits\n",
    "vegetables = ['Tomato', 'Potato', 'Cabbage','Onion', 'Carrot']      # list of vegetables\n",
    "animal_products = ['milk', 'meat', 'butter', 'yoghurt']             # list of animal products\n",
    "web_techs = ['HTML', 'CSS', 'JS', 'React','Redux', 'Node', 'MongDB'] # list of web technologies\n",
    "countries = ['Finland', 'Estonia', 'Denmark', 'Sweden', 'Norway']\n",
    "\n",
    "# Print the lists and its length\n",
    "print('Fruits:', fruits)\n",
    "print('Number of fruits:', len(fruits))\n",
    "print('Vegetables:', vegetables)\n",
    "print('Number of vegetables:', len(vegetables))\n",
    "print('Animal products:',animal_products)\n",
    "print('Number of animal products:', len(animal_products))\n",
    "print('Web technologies:', web_techs)\n",
    "print('Number of web technologies:', len(web_techs))\n",
    "print('Countries:', countries)\n",
    "print('Number of countries:', len(countries))"
   ]
  },
  {
   "cell_type": "markdown",
   "metadata": {},
   "source": [
    "- Lists can have items of different data types\n"
   ]
  },
  {
   "cell_type": "code",
   "execution_count": null,
   "metadata": {},
   "outputs": [],
   "source": [
    "lst = ['Asabeneh', 250, True, {'country':'Finland', 'city':'Helsinki'}] # list containing different data types"
   ]
  },
  {
   "cell_type": "markdown",
   "metadata": {},
   "source": [
    "### Accessing List Items Using Positive Indexing\n",
    "\n",
    "We access each item in a list using their index. A list index starts from 0. The picture below shows clearly where the index starts"
   ]
  },
  {
   "attachments": {
    "image.png": {
     "image/png": "[encoded data removed]"
    }
   },
   "cell_type": "markdown",
   "metadata": {},
   "source": [
    "![image.png](attachment:image.png)"
   ]
  },
  {
   "cell_type": "code",
   "execution_count": null,
   "metadata": {},
   "outputs": [],
   "source": [
    "fruits = ['banana', 'orange', 'mango', 'lemon']\n",
    "first_fruit = fruits[-4]\n",
    "last_fruit = fruits[-1]\n",
    "second_last = fruits[-2]\n",
    "print(first_fruit)      # banana\n",
    "print(last_fruit)       # lemon\n",
    "print(second_last)      # mango"
   ]
  },
  {
   "cell_type": "markdown",
   "metadata": {},
   "source": [
    "### Unpacking List Items\n"
   ]
  },
  {
   "cell_type": "code",
   "execution_count": null,
   "metadata": {},
   "outputs": [],
   "source": [
    "lst = ['item1','item2','item3', 'item4', 'item5']\n",
    "first_item, second_item, third_item, *rest = lst\n",
    "print(first_item)     # item1\n",
    "print(second_item)    # item2\n",
    "print(third_item)     # item3\n",
    "print(rest)           # ['item4', 'item5']\n"
   ]
  },
  {
   "cell_type": "code",
   "execution_count": null,
   "metadata": {},
   "outputs": [],
   "source": [
    "# First Example\n",
    "fruits = ['banana', 'orange', 'mango', 'lemon','lime','apple']\n",
    "first_fruit, second_fruit, third_fruit, *rest = fruits \n",
    "print(first_fruit)     # banana\n",
    "print(second_fruit)    # orange\n",
    "print(third_fruit)     # mango\n",
    "print(rest)           # ['lemon','lime','apple']\n",
    "# Second Example about unpacking list\n",
    "first, second, third,*rest, tenth = [1,2,3,4,5,6,7,8,9,10]\n",
    "print(first)          # 1\n",
    "print(second)         # 2\n",
    "print(third)          # 3\n",
    "print(rest)           # [4,5,6,7,8,9]\n",
    "print(tenth)          # 10\n",
    "# Third Example about unpacking list\n",
    "countries = ['Germany', 'France','Belgium','Sweden','Denmark','Finland','Norway','Iceland','Estonia']\n",
    "gr, fr, bg, sw, *scandic, es = countries\n",
    "print(gr)\n",
    "print(fr)\n",
    "print(bg)\n",
    "print(sw)\n",
    "print(scandic)\n",
    "print(es)"
   ]
  },
  {
   "cell_type": "markdown",
   "metadata": {},
   "source": [
    "### Slicing Items from a List\n",
    "- Positive Indexing: We can specify a range of positive indexes by specifying the start, end and step, the return value will be a new list. (default values for start = 0, end = len(lst) - 1 (last item), step = 1)"
   ]
  },
  {
   "cell_type": "code",
   "execution_count": null,
   "metadata": {},
   "outputs": [],
   "source": [
    "fruits = ['banana', 'orange', 'mango', 'lemon']\n",
    "all_fruits = fruits[0:4] # it returns all the fruits\n",
    "# this will also give the same result as the one above\n",
    "all_fruits = fruits[0:] # if we don't set where to stop it takes all the rest\n",
    "orange_and_mango = fruits[1:3] # it does not include the first index\n",
    "orange_mango_lemon = fruits[1:]\n",
    "orange_and_lemon = fruits[::2] # here we used a 3rd argument, step. It will take every 2cnd item - ['banana', 'mango']"
   ]
  },
  {
   "cell_type": "markdown",
   "metadata": {},
   "source": [
    "### Modifying Lists\n",
    "List is a mutable or modifiable ordered collection of items. Lets modify the fruit list"
   ]
  },
  {
   "cell_type": "code",
   "execution_count": null,
   "metadata": {},
   "outputs": [],
   "source": [
    "fruits = ['banana', 'orange', 'mango', 'lemon']\n",
    "fruits[0] = 'avocado'\n",
    "print(fruits)       #  ['avocado', 'orange', 'mango', 'lemon']\n",
    "fruits[1] = 'apple'\n",
    "print(fruits)       #  ['avocado', 'apple', 'mango', 'lemon']\n",
    "last_index = len(fruits) - 1\n",
    "fruits[last_index] = 'lime'\n",
    "print(fruits)        #  ['avocado', 'apple', 'mango', 'lime']"
   ]
  },
  {
   "cell_type": "markdown",
   "metadata": {},
   "source": [
    "### Checking Items in a List\n",
    "Checking an item if it is a member of a list using in operator. See the example below.\n",
    "\n"
   ]
  },
  {
   "cell_type": "code",
   "execution_count": null,
   "metadata": {},
   "outputs": [],
   "source": [
    "fruits = ['banana', 'orange', 'mango', 'lemon']\n",
    "does_exist = 'banana' in fruits\n",
    "print(does_exist)  # True\n",
    "does_exist = 'lime' in fruits\n",
    "print(does_exist)  # False"
   ]
  },
  {
   "cell_type": "markdown",
   "metadata": {},
   "source": [
    "### Adding Items to a List\n",
    "To add item to the end of an existing list we use the method append()"
   ]
  },
  {
   "cell_type": "code",
   "execution_count": null,
   "metadata": {},
   "outputs": [],
   "source": [
    "# syntax\n",
    "lst = list()\n",
    "lst.append(item)\n",
    "fruits = ['banana', 'orange', 'mango', 'lemon']\n",
    "fruits.append('apple')\n",
    "print(fruits)           # ['banana', 'orange', 'mango', 'lemon', 'apple']\n",
    "fruits.append('lime')   # ['banana', 'orange', 'mango', 'lemon', 'apple', 'lime']\n",
    "print(fruits)"
   ]
  },
  {
   "cell_type": "markdown",
   "metadata": {},
   "source": [
    "### Inserting Items into a List\n",
    "We can use insert() method to insert a single item at a specified index in a list. Note that other items are shifted to the right. The insert() methods takes two arguments:index and an item to insert"
   ]
  },
  {
   "cell_type": "code",
   "execution_count": null,
   "metadata": {},
   "outputs": [],
   "source": [
    "# syntax\n",
    "lst = ['item1', 'item2']\n",
    "lst.insert(index, item)\n",
    "fruits = ['banana', 'orange', 'mango', 'lemon']\n",
    "fruits.insert(2, 'apple') # insert apple between orange and mango\n",
    "print(fruits)           # ['banana', 'orange', 'apple', 'mango', 'lemon']\n",
    "fruits.insert(3, 'lime')   # ['banana', 'orange', 'apple', 'lime', 'mango', 'lemon']\n",
    "print(fruits)"
   ]
  },
  {
   "cell_type": "markdown",
   "metadata": {},
   "source": [
    "### Removing Items from a List\n",
    "The remove method removes a specified item from a list"
   ]
  },
  {
   "cell_type": "code",
   "execution_count": null,
   "metadata": {},
   "outputs": [],
   "source": [
    "# syntax\n",
    "lst = ['item1', 'item2']\n",
    "lst.remove(item)"
   ]
  },
  {
   "cell_type": "code",
   "execution_count": null,
   "metadata": {},
   "outputs": [],
   "source": [
    "\n",
    "fruits = ['banana', 'orange', 'mango', 'lemon', 'banana']\n",
    "fruits.remove('banana')\n",
    "print(fruits)  # ['orange', 'mango', 'lemon', 'banana'] - this method removes the first occurrence of the item in the list\n",
    "fruits.remove('lemon')\n",
    "print(fruits)  # ['orange', 'mango', 'banana']"
   ]
  },
  {
   "cell_type": "markdown",
   "metadata": {},
   "source": [
    "### Removing Items Using Pop\n",
    "The pop() method removes the specified index, (or the last item if index is not specified):"
   ]
  },
  {
   "cell_type": "code",
   "execution_count": null,
   "metadata": {},
   "outputs": [],
   "source": [
    "# syntax\n",
    "lst = ['item1', 'item2']\n",
    "lst.pop()       # last item\n",
    "lst.pop(index)"
   ]
  },
  {
   "cell_type": "code",
   "execution_count": null,
   "metadata": {},
   "outputs": [],
   "source": [
    "fruits = ['banana', 'orange', 'mango', 'lemon']\n",
    "fruits.pop()\n",
    "print(fruits)       # ['banana', 'orange', 'mango']\n",
    "\n",
    "fruits.pop(0)\n",
    "print(fruits)       # ['orange', 'mango']"
   ]
  },
  {
   "cell_type": "markdown",
   "metadata": {},
   "source": [
    "### Removing Items Using Del\n",
    "The del keyword removes the specified index and it can also be used to delete items within index range. It can also delete the list completely"
   ]
  },
  {
   "cell_type": "code",
   "execution_count": null,
   "metadata": {},
   "outputs": [],
   "source": [
    "# syntax\n",
    "lst = ['item1', 'item2']\n",
    "del lst[index] # only a single item\n",
    "del lst        # to delete the list completely"
   ]
  },
  {
   "cell_type": "code",
   "execution_count": null,
   "metadata": {},
   "outputs": [],
   "source": [
    "fruits = ['banana', 'orange', 'mango', 'lemon', 'kiwi', 'lime']\n",
    "del fruits[0]\n",
    "print(fruits)       # ['orange', 'mango', 'lemon', 'kiwi', 'lime']\n",
    "del fruits[1]\n",
    "print(fruits)       # ['orange', 'lemon', 'kiwi', 'lime']\n",
    "del fruits[1:3]     # this deletes items between given indexes, so it does not delete the item with index 3!\n",
    "print(fruits)       # ['orange', 'lime']\n",
    "del fruits\n",
    "print(fruits)       # This should give: NameError: name 'fruits' is not defined"
   ]
  },
  {
   "cell_type": "markdown",
   "metadata": {},
   "source": [
    "### Clearing List Items\n",
    "The clear() method empties the list:"
   ]
  },
  {
   "cell_type": "code",
   "execution_count": null,
   "metadata": {},
   "outputs": [],
   "source": [
    "# syntax\n",
    "lst = ['item1', 'item2']\n",
    "lst.clear()"
   ]
  },
  {
   "cell_type": "code",
   "execution_count": null,
   "metadata": {},
   "outputs": [],
   "source": [
    "fruits = ['banana', 'orange', 'mango', 'lemon']\n",
    "fruits.clear()\n",
    "print(fruits)       # []"
   ]
  },
  {
   "cell_type": "markdown",
   "metadata": {},
   "source": [
    "### Copying a List\n",
    "It is possible to copy a list by reassigning it to a new variable in the following way: list2 = list1. Now, list2 is a reference of list1, any changes we make in list2 will also modify the original, list1. But there are lots of case in which we do not like to modify the original instead we like to have a different copy. One of way of avoiding the problem above is using copy()."
   ]
  },
  {
   "cell_type": "code",
   "execution_count": null,
   "metadata": {},
   "outputs": [],
   "source": [
    "# syntax\n",
    "lst = ['item1', 'item2']\n",
    "lst_copy = lst.copy()"
   ]
  },
  {
   "cell_type": "code",
   "execution_count": null,
   "metadata": {},
   "outputs": [],
   "source": [
    "fruits = ['banana', 'orange', 'mango', 'lemon']\n",
    "fruits_copy = fruits.copy()\n",
    "print(fruits_copy)       # ['banana', 'orange', 'mango', 'lemon']"
   ]
  },
  {
   "cell_type": "markdown",
   "metadata": {},
   "source": [
    "### Joining Lists\n",
    "There are several ways to join, or concatenate, two or more lists in Python.\n",
    "\n",
    "Plus Operator (+)"
   ]
  },
  {
   "cell_type": "code",
   "execution_count": null,
   "metadata": {},
   "outputs": [],
   "source": [
    "# syntax\n",
    "list3 = list1 + list2"
   ]
  },
  {
   "cell_type": "code",
   "execution_count": null,
   "metadata": {},
   "outputs": [],
   "source": [
    "positive_numbers = [1, 2, 3, 4, 5]\n",
    "zero = [0]\n",
    "negative_numbers = [-5,-4,-3,-2,-1]\n",
    "integers = negative_numbers + zero + positive_numbers\n",
    "print(integers) # [-5, -4, -3, -2, -1, 0, 1, 2, 3, 4, 5]\n",
    "fruits = ['banana', 'orange', 'mango', 'lemon']\n",
    "vegetables = ['Tomato', 'Potato', 'Cabbage', 'Onion', 'Carrot']\n",
    "fruits_and_vegetables = fruits + vegetables\n",
    "print(fruits_and_vegetables ) # ['banana', 'orange', 'mango', 'lemon', 'Tomato', 'Potato', 'Cabbage', 'Onion', 'Carrot']"
   ]
  },
  {
   "cell_type": "markdown",
   "metadata": {},
   "source": [
    "- Joining using extend() method The extend() method allows to append list in a list. See the example below."
   ]
  },
  {
   "cell_type": "code",
   "execution_count": null,
   "metadata": {},
   "outputs": [],
   "source": [
    "# syntax\n",
    "list1 = ['item1', 'item2']\n",
    "list2 = ['item3', 'item4', 'item5']\n",
    "list1.extend(list2)"
   ]
  },
  {
   "cell_type": "code",
   "execution_count": null,
   "metadata": {},
   "outputs": [],
   "source": [
    "num1 = [0, 1, 2, 3]\n",
    "num2= [4, 5, 6]\n",
    "num1.extend(num2)\n",
    "print('Numbers:', num1) # Numbers: [0, 1, 2, 3, 4, 5, 6]\n",
    "negative_numbers = [-5,-4,-3,-2,-1]\n",
    "positive_numbers = [1, 2, 3,4,5]\n",
    "zero = [0]\n",
    "\n",
    "negative_numbers.extend(zero)\n",
    "negative_numbers.extend(positive_numbers)\n",
    "print('Integers:', negative_numbers) # Integers: [-5, -4, -3, -2, -1, 0, 1, 2, 3, 4, 5]\n",
    "fruits = ['banana', 'orange', 'mango', 'lemon']\n",
    "vegetables = ['Tomato', 'Potato', 'Cabbage', 'Onion', 'Carrot']\n",
    "fruits.extend(vegetables)\n",
    "print('Fruits and vegetables:', fruits ) # Fruits and vegetables: ['banana', 'orange', 'mango', 'lemon', 'Tomato', 'Potato', 'Cabbage', 'Onion', 'Carrot']"
   ]
  },
  {
   "cell_type": "markdown",
   "metadata": {},
   "source": [
    "### Counting Items in a List\n",
    "The count() method returns the number of times an item appears in a list:"
   ]
  },
  {
   "cell_type": "code",
   "execution_count": null,
   "metadata": {},
   "outputs": [],
   "source": [
    "# syntax\n",
    "lst = ['item1', 'item2']\n",
    "lst.count(item)"
   ]
  },
  {
   "cell_type": "code",
   "execution_count": null,
   "metadata": {},
   "outputs": [],
   "source": [
    "fruits = ['banana', 'orange', 'mango', 'lemon']\n",
    "print(fruits.count('orange'))   # 1\n",
    "ages = [22, 19, 24, 25, 26, 24, 25, 24]\n",
    "print(ages.count(24))           # 3"
   ]
  },
  {
   "cell_type": "markdown",
   "metadata": {},
   "source": [
    "### Finding Index of an Item\n",
    "The index() method returns the index of an item in the list"
   ]
  },
  {
   "cell_type": "code",
   "execution_count": null,
   "metadata": {},
   "outputs": [],
   "source": [
    "# syntax\n",
    "lst = ['item1', 'item2']\n",
    "lst.index(item)"
   ]
  },
  {
   "cell_type": "code",
   "execution_count": null,
   "metadata": {},
   "outputs": [],
   "source": [
    "fruits = ['banana', 'orange', 'mango', 'lemon']\n",
    "print(fruits.index('orange'))   # 1\n",
    "ages = [22, 19, 24, 25, 26, 24, 25, 24]\n",
    "print(ages.index(24))           # 2, the first occurrence"
   ]
  },
  {
   "cell_type": "markdown",
   "metadata": {},
   "source": [
    "### Reversing a List\n",
    "The reverse() method reverses the order of a list."
   ]
  },
  {
   "cell_type": "code",
   "execution_count": null,
   "metadata": {},
   "outputs": [],
   "source": [
    "# syntax\n",
    "lst = ['item1', 'item2']\n",
    "lst.reverse()\n",
    "\n",
    "\n"
   ]
  },
  {
   "cell_type": "code",
   "execution_count": null,
   "metadata": {},
   "outputs": [],
   "source": [
    "fruits = ['banana', 'orange', 'mango', 'lemon']\n",
    "fruits.reverse()\n",
    "print(fruits) # ['lemon', 'mango', 'orange', 'banana']\n",
    "ages = [22, 19, 24, 25, 26, 24, 25, 24]\n",
    "ages.reverse()\n",
    "print(ages) # [24, 25, 24, 26, 25, 24, 19, 22]"
   ]
  },
  {
   "cell_type": "markdown",
   "metadata": {},
   "source": [
    "### Sorting List Items\n",
    "To sort lists we can use sort() method or sorted() built-in functions. The sort() method reorders the list items in ascending order and modifies the original list. If an argument of sort() method reverse is equal to true, it will arrange the list in descending order.\n",
    "\n",
    "- sort(): this method modifies the original list"
   ]
  },
  {
   "cell_type": "code",
   "execution_count": null,
   "metadata": {},
   "outputs": [],
   "source": [
    "# syntax\n",
    "lst = ['item1', 'item2']\n",
    "lst.sort()                # ascending\n",
    "lst.sort(reverse=True)    # descending"
   ]
  },
  {
   "cell_type": "code",
   "execution_count": null,
   "metadata": {},
   "outputs": [],
   "source": [
    "fruits = ['banana', 'orange', 'mango', 'lemon']\n",
    "fruits.sort()\n",
    "print(fruits)             # sorted in alphabetical order, ['banana', 'lemon', 'mango', 'orange']\n",
    "fruits.sort(reverse=True)\n",
    "print(fruits) # ['orange', 'mango', 'lemon', 'banana']\n",
    "ages = [22, 19, 24, 25, 26, 24, 25, 24]\n",
    "ages.sort()\n",
    "print(ages) #  [19, 22, 24, 24, 24, 25, 25, 26]\n",
    "\n",
    "ages.sort(reverse=True)\n",
    "print(ages) #  [26, 25, 25, 24, 24, 24, 22, 19]"
   ]
  },
  {
   "cell_type": "markdown",
   "metadata": {},
   "source": [
    "- sorted(): returns the ordered list without modifying the original list Example:\n",
    "\n"
   ]
  },
  {
   "cell_type": "code",
   "execution_count": null,
   "metadata": {},
   "outputs": [],
   "source": [
    "fruits = ['banana', 'orange', 'mango', 'lemon']\n",
    "print(sorted(fruits))   # ['banana', 'lemon', 'mango', 'orange']\n",
    "# Reverse order\n",
    "fruits = ['banana', 'orange', 'mango', 'lemon']\n",
    "fruits = sorted(fruits,reverse=True)\n",
    "print(fruits)     # ['orange', 'mango', 'lemon', 'banana']"
   ]
  },
  {
   "cell_type": "markdown",
   "metadata": {},
   "source": [
    "# Exercises: Level 1\n",
    "\n",
    "1. Declare an empty list\n",
    "\n",
    "2. Declare a list with more than 5 items\n",
    "\n",
    "3. Find the length of your list\n",
    "\n",
    "4. Get the first item, the middle item, and the last item of the list\n",
    "\n",
    "5. Declare a list called `mixed_data_types`, put your (name, age, height, marital status, address)\n",
    "\n",
    "6. Declare a list variable named `it_companies` and assign initial values Facebook, Google, Microsoft, Apple, IBM, Oracle, and Amazon.\n",
    "\n",
    "7. Print the list using `print()`\n",
    "\n",
    "8. Print the number of companies in the list\n",
    "\n",
    "9. Print the first, middle, and last company\n",
    "\n",
    "10. Print the list after modifying one of the companies\n",
    "\n",
    "11. Add an IT company to `it_companies`\n",
    "\n",
    "12. Insert an IT company in the middle of the companies list\n",
    "\n",
    "13. Change one of the `it_companies` names to uppercase (IBM excluded!)\n",
    "\n",
    "14. Join the `it_companies` with a string '#;  '\n",
    "\n",
    "15. Check if a certain company exists in the `it_companies` list.\n",
    "\n",
    "16. Sort the list using the `sort()` method\n",
    "\n",
    "17. Reverse the list in descending order using the `reverse()` method\n",
    "\n",
    "18. Slice out the first 3 companies from the list\n",
    "\n",
    "19. Slice out the last 3 companies from the list\n",
    "\n",
    "20. Slice out the middle IT company or companies from the list\n",
    "\n",
    "21. Remove the first IT company from the list\n",
    "\n",
    "22. Remove the middle IT company or companies from the list\n",
    "\n",
    "23. Remove the last IT company from the list\n",
    "\n",
    "24. Remove all IT companies from the list\n",
    "\n",
    "25. Destroy the IT companies list\n",
    "\n",
    "26. Join the following lists:\n",
    "    ```python\n",
    "    front_end = ['HTML', 'CSS', 'JS', 'React', 'Redux']\n",
    "    back_end = ['Node', 'Express', 'MongoDB']\n",
    "    ```\n",
    "\n",
    "27. After joining the lists in question 26, copy the joined list and assign it to a variable `full_stack`. Then insert Python and SQL after Redux.\n",
    "\n",
    "# Exercises: Level 2\n",
    "\n",
    "1. The following is a list of 10 students' ages:\n",
    "    ```python\n",
    "    ages = [19, 22, 19, 24, 20, 25, 26, 24, 25, 24]\n",
    "    ```\n",
    "   \n",
    "2. Sort the list and find the min and max age\n",
    "\n",
    "3. Add the min age and the max age again to the list\n",
    "\n",
    "4. Find the median age (one middle item or two middle items divided by two)\n",
    "\n",
    "5. Find the average age (sum of all items divided by their number)\n",
    "\n",
    "6. Find the range of the ages (max minus min)\n",
    "\n",
    "7. Compare the value of (min - average) and (max - average), use `abs()` method\n",
    "\n",
    "8. Find the middle country(ies) in the countries list\n",
    "\n",
    "9. Divide the countries list into two equal lists if it is even, if not one more country for the first half.\n",
    "    ```python\n",
    "    countries = ['China', 'Russia', 'USA', 'Finland', 'Sweden', 'Norway', 'Denmark']\n",
    "    ```\n",
    "\n",
    "10. Unpack the first three countries and the rest as scandic countries.\n"
   ]
  },
  {
   "cell_type": "markdown",
   "metadata": {},
   "source": []
  }
 ],
 "metadata": {
  "kernelspec": {
   "display_name": "Python 3",
   "language": "python",
   "name": "python3"
  },
  "language_info": {
   "codemirror_mode": {
    "name": "ipython",
    "version": 3
   },
   "file_extension": ".py",
   "mimetype": "text/x-python",
   "name": "python",
   "nbconvert_exporter": "python",
   "pygments_lexer": "ipython3",
   "version": "3.10.4"
  }
 },
 "nbformat": 4,
 "nbformat_minor": 2
}
