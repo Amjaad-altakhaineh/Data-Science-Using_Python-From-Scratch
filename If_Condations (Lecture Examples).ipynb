{
  "nbformat": 4,
  "nbformat_minor": 0,
  "metadata": {
    "colab": {
      "provenance": []
    },
    "kernelspec": {
      "name": "python3",
      "display_name": "Python 3"
    },
    "language_info": {
      "name": "python"
    }
  },
  "cells": [
    {
      "cell_type": "code",
      "execution_count": null,
      "metadata": {
        "colab": {
          "base_uri": "https://localhost:8080/"
        },
        "id": "f0JyvMZWuZOj",
        "outputId": "299a7ca4-23fa-47f6-e440-0aeb680eb2fc"
      },
      "outputs": [
        {
          "output_type": "execute_result",
          "data": {
            "text/plain": [
              "list"
            ]
          },
          "metadata": {},
          "execution_count": 1
        }
      ],
      "source": [
        "# IF  1\n",
        "# IF Else 1\n",
        "# IF elif else 3"
      ]
    },
    {
      "cell_type": "code",
      "source": [
        "print(1==2)\n"
      ],
      "metadata": {
        "colab": {
          "base_uri": "https://localhost:8080/"
        },
        "id": "cvXfn46pvG3N",
        "outputId": "8ac5772f-711d-4909-e727-c7283eb9353e"
      },
      "execution_count": null,
      "outputs": [
        {
          "output_type": "stream",
          "name": "stdout",
          "text": [
            "False\n"
          ]
        }
      ]
    },
    {
      "cell_type": "code",
      "source": [
        "print(True and 0)"
      ],
      "metadata": {
        "colab": {
          "base_uri": "https://localhost:8080/"
        },
        "id": "PqQzO-XsvO0Q",
        "outputId": "9e97222b-c230-4e75-bb90-ff2cef8d4cda"
      },
      "execution_count": null,
      "outputs": [
        {
          "output_type": "stream",
          "name": "stdout",
          "text": [
            "0\n"
          ]
        }
      ]
    },
    {
      "cell_type": "code",
      "source": [
        "if 5>4:\n",
        "  print(\"Hello World\")"
      ],
      "metadata": {
        "colab": {
          "base_uri": "https://localhost:8080/"
        },
        "id": "pwlPp_NSviaM",
        "outputId": "7c5960d5-28e3-4bd2-afd4-da3cfca8bb1d"
      },
      "execution_count": null,
      "outputs": [
        {
          "output_type": "stream",
          "name": "stdout",
          "text": [
            "Hello World\n"
          ]
        }
      ]
    },
    {
      "cell_type": "code",
      "source": [
        "a=3\n",
        "if a>0:\n",
        "  print(\"Is a positive Num\")"
      ],
      "metadata": {
        "colab": {
          "base_uri": "https://localhost:8080/"
        },
        "id": "CGcwfkEBwFKY",
        "outputId": "601869c4-1f65-46b3-e2bc-179e60687c1c"
      },
      "execution_count": null,
      "outputs": [
        {
          "output_type": "stream",
          "name": "stdout",
          "text": [
            "Is a positive Num\n"
          ]
        }
      ]
    },
    {
      "cell_type": "code",
      "source": [
        "li=[\"Ali\", \"Sami\", \"Khalid\"]\n",
        "d=\"ali\"\n",
        "d=d.title()\n",
        "if d in li:\n",
        "  print(\"Hi Ali\")"
      ],
      "metadata": {
        "colab": {
          "base_uri": "https://localhost:8080/"
        },
        "id": "BmDCnhZgwMHT",
        "outputId": "70e4d0f4-30a1-4885-82cb-3e57446336b6"
      },
      "execution_count": null,
      "outputs": [
        {
          "output_type": "stream",
          "name": "stdout",
          "text": [
            "Hi Ali\n"
          ]
        }
      ]
    },
    {
      "cell_type": "code",
      "source": [
        "li=[\"Ali\", \"Sami\", \"Khalid\"]\n",
        "\n",
        "if \"ali\" in li:\n",
        "  print(\"Hi Ali\")\n",
        "else:\n",
        "  print(\"Ali is not here\")"
      ],
      "metadata": {
        "colab": {
          "base_uri": "https://localhost:8080/"
        },
        "id": "nEWaySVKw02E",
        "outputId": "194a69a9-d448-4fbc-ca49-40ac65d38107"
      },
      "execution_count": null,
      "outputs": [
        {
          "output_type": "stream",
          "name": "stdout",
          "text": [
            "Ali is not here\n"
          ]
        }
      ]
    },
    {
      "cell_type": "code",
      "source": [
        "score=int(input(\"Enter Ali's Score\"))\n",
        "\n",
        "if 100>= score >= 50:\n",
        "  print(\"Pass\")\n",
        "elif score>100:\n",
        "  print(\"Score out of range\")\n",
        "else :\n",
        "  print(\"Fail\")"
      ],
      "metadata": {
        "colab": {
          "base_uri": "https://localhost:8080/",
          "height": 382
        },
        "id": "Rl-r1xOZ2uz6",
        "outputId": "f22450b6-a98b-4f82-be2b-dcceb31377cb"
      },
      "execution_count": null,
      "outputs": [
        {
          "output_type": "error",
          "ename": "KeyboardInterrupt",
          "evalue": "Interrupted by user",
          "traceback": [
            "\u001b[0;31m---------------------------------------------------------------------------\u001b[0m",
            "\u001b[0;31mKeyboardInterrupt\u001b[0m                         Traceback (most recent call last)",
            "\u001b[0;32m<ipython-input-18-f8371767d56b>\u001b[0m in \u001b[0;36m<cell line: 1>\u001b[0;34m()\u001b[0m\n\u001b[0;32m----> 1\u001b[0;31m \u001b[0mscore\u001b[0m\u001b[0;34m=\u001b[0m\u001b[0mint\u001b[0m\u001b[0;34m(\u001b[0m\u001b[0minput\u001b[0m\u001b[0;34m(\u001b[0m\u001b[0;34m\"Enter Ali's Score\"\u001b[0m\u001b[0;34m)\u001b[0m\u001b[0;34m)\u001b[0m\u001b[0;34m\u001b[0m\u001b[0;34m\u001b[0m\u001b[0m\n\u001b[0m\u001b[1;32m      2\u001b[0m \u001b[0;34m\u001b[0m\u001b[0m\n\u001b[1;32m      3\u001b[0m \u001b[0;32mif\u001b[0m \u001b[0;36m100\u001b[0m\u001b[0;34m>=\u001b[0m \u001b[0mscore\u001b[0m \u001b[0;34m>=\u001b[0m \u001b[0;36m50\u001b[0m\u001b[0;34m:\u001b[0m\u001b[0;34m\u001b[0m\u001b[0;34m\u001b[0m\u001b[0m\n\u001b[1;32m      4\u001b[0m   \u001b[0mprint\u001b[0m\u001b[0;34m(\u001b[0m\u001b[0;34m\"Pass\"\u001b[0m\u001b[0;34m)\u001b[0m\u001b[0;34m\u001b[0m\u001b[0;34m\u001b[0m\u001b[0m\n\u001b[1;32m      5\u001b[0m \u001b[0;32melif\u001b[0m \u001b[0mscore\u001b[0m\u001b[0;34m>\u001b[0m\u001b[0;36m100\u001b[0m\u001b[0;34m:\u001b[0m\u001b[0;34m\u001b[0m\u001b[0;34m\u001b[0m\u001b[0m\n",
            "\u001b[0;32m/usr/local/lib/python3.10/dist-packages/ipykernel/kernelbase.py\u001b[0m in \u001b[0;36mraw_input\u001b[0;34m(self, prompt)\u001b[0m\n\u001b[1;32m    849\u001b[0m                 \u001b[0;34m\"raw_input was called, but this frontend does not support input requests.\"\u001b[0m\u001b[0;34m\u001b[0m\u001b[0;34m\u001b[0m\u001b[0m\n\u001b[1;32m    850\u001b[0m             )\n\u001b[0;32m--> 851\u001b[0;31m         return self._input_request(str(prompt),\n\u001b[0m\u001b[1;32m    852\u001b[0m             \u001b[0mself\u001b[0m\u001b[0;34m.\u001b[0m\u001b[0m_parent_ident\u001b[0m\u001b[0;34m,\u001b[0m\u001b[0;34m\u001b[0m\u001b[0;34m\u001b[0m\u001b[0m\n\u001b[1;32m    853\u001b[0m             \u001b[0mself\u001b[0m\u001b[0;34m.\u001b[0m\u001b[0m_parent_header\u001b[0m\u001b[0;34m,\u001b[0m\u001b[0;34m\u001b[0m\u001b[0;34m\u001b[0m\u001b[0m\n",
            "\u001b[0;32m/usr/local/lib/python3.10/dist-packages/ipykernel/kernelbase.py\u001b[0m in \u001b[0;36m_input_request\u001b[0;34m(self, prompt, ident, parent, password)\u001b[0m\n\u001b[1;32m    893\u001b[0m             \u001b[0;32mexcept\u001b[0m \u001b[0mKeyboardInterrupt\u001b[0m\u001b[0;34m:\u001b[0m\u001b[0;34m\u001b[0m\u001b[0;34m\u001b[0m\u001b[0m\n\u001b[1;32m    894\u001b[0m                 \u001b[0;31m# re-raise KeyboardInterrupt, to truncate traceback\u001b[0m\u001b[0;34m\u001b[0m\u001b[0;34m\u001b[0m\u001b[0m\n\u001b[0;32m--> 895\u001b[0;31m                 \u001b[0;32mraise\u001b[0m \u001b[0mKeyboardInterrupt\u001b[0m\u001b[0;34m(\u001b[0m\u001b[0;34m\"Interrupted by user\"\u001b[0m\u001b[0;34m)\u001b[0m \u001b[0;32mfrom\u001b[0m \u001b[0;32mNone\u001b[0m\u001b[0;34m\u001b[0m\u001b[0;34m\u001b[0m\u001b[0m\n\u001b[0m\u001b[1;32m    896\u001b[0m             \u001b[0;32mexcept\u001b[0m \u001b[0mException\u001b[0m \u001b[0;32mas\u001b[0m \u001b[0me\u001b[0m\u001b[0;34m:\u001b[0m\u001b[0;34m\u001b[0m\u001b[0;34m\u001b[0m\u001b[0m\n\u001b[1;32m    897\u001b[0m                 \u001b[0mself\u001b[0m\u001b[0;34m.\u001b[0m\u001b[0mlog\u001b[0m\u001b[0;34m.\u001b[0m\u001b[0mwarning\u001b[0m\u001b[0;34m(\u001b[0m\u001b[0;34m\"Invalid Message:\"\u001b[0m\u001b[0;34m,\u001b[0m \u001b[0mexc_info\u001b[0m\u001b[0;34m=\u001b[0m\u001b[0;32mTrue\u001b[0m\u001b[0;34m)\u001b[0m\u001b[0;34m\u001b[0m\u001b[0;34m\u001b[0m\u001b[0m\n",
            "\u001b[0;31mKeyboardInterrupt\u001b[0m: Interrupted by user"
          ]
        }
      ]
    },
    {
      "cell_type": "code",
      "source": [
        "score = int(input(\"please enter mark\"))\n",
        "if 100 > score >50 :\n",
        "  print (\"pass\")\n",
        "elif score ==50 :\n",
        "  print (\"Critical\")\n",
        "elif score ==100 :\n",
        "  print (\"gift\")\n",
        "elif score >100 :\n",
        "  print (\"out of range\")\n",
        "else :\n",
        "  print (\"fail\")"
      ],
      "metadata": {
        "colab": {
          "base_uri": "https://localhost:8080/"
        },
        "id": "9PaaOpKE6N0Y",
        "outputId": "a740cdcf-9011-41aa-e3f1-f3defb59425b"
      },
      "execution_count": null,
      "outputs": [
        {
          "output_type": "stream",
          "name": "stdout",
          "text": [
            "please enter mark101\n",
            "out of range\n"
          ]
        }
      ]
    },
    {
      "cell_type": "code",
      "source": [
        "score_student=int(input(\"enter student score: \"))\n",
        "if 100 > score_student > 50:\n",
        " print (\"pass\")\n",
        "elif score_student == 50 :\n",
        " print(\"critical\")\n",
        "elif score_student == 100 :\n",
        " print(\"won a prize\")\n",
        "else:\n",
        " print(\"fail\")"
      ],
      "metadata": {
        "colab": {
          "base_uri": "https://localhost:8080/"
        },
        "id": "6uT-Q2NA9IEt",
        "outputId": "3d593257-7d19-450a-aec6-c1c91f02c825"
      },
      "execution_count": null,
      "outputs": [
        {
          "output_type": "stream",
          "name": "stdout",
          "text": [
            "enter student score: 102\n",
            "fail\n"
          ]
        }
      ]
    },
    {
      "cell_type": "code",
      "source": [
        "score_student=int(input(\"enter student score: \"))\n",
        "if  100 > score_student > 50: # RUN\n",
        "  print (\"pass\")\n",
        "elif score_student == 50 :\n",
        "  print(\"critical\")\n",
        "elif score_student == 100 :\n",
        "  print(\"won a prize\")\n",
        "elif score_student > 100:\n",
        "  print(\"out of range\")\n",
        "elif score < 0:\n",
        "  print(\"Out of range\")\n",
        "else:\n",
        "  print(\"fail\")"
      ],
      "metadata": {
        "id": "fvno9aj59t20"
      },
      "execution_count": null,
      "outputs": []
    },
    {
      "cell_type": "code",
      "source": [
        "score=int(input(\"enter the degree\"))\n",
        "if score>50: # Logical Error\n",
        "  print(\"win\")\n",
        "elif score==50:\n",
        "  print(\"scary situation\")\n",
        "elif score==100:\n",
        "  print(\"winning a prize pool\")\n",
        "else:\n",
        "  print(\"he is a loser\")"
      ],
      "metadata": {
        "colab": {
          "base_uri": "https://localhost:8080/"
        },
        "id": "ppKrDhKr-BMN",
        "outputId": "497be975-2d28-45bf-93b5-f90517419617"
      },
      "execution_count": null,
      "outputs": [
        {
          "output_type": "stream",
          "name": "stdout",
          "text": [
            "enter the degree40\n",
            "he is a loser\n"
          ]
        }
      ]
    },
    {
      "cell_type": "code",
      "source": [
        "score_student=int(input(\"enter student score: \"))\n",
        "#if  100 > score_student > 50: # RUN\n",
        "\n",
        "if  100 > score_student > 50: # RUN\n",
        "  print (\"pass\")\n",
        "elif score_student == 50 :\n",
        "  print(\"critical\")\n",
        "elif score_student == 100 :\n",
        "  print(\"won a prize\")\n",
        "elif not (100 >= score_student >= 0) : #\n",
        "  print(\"out of range\")\n",
        "\n",
        "else:\n",
        "  print(\"fail\")"
      ],
      "metadata": {
        "colab": {
          "base_uri": "https://localhost:8080/"
        },
        "id": "ipsaziXn-_Yb",
        "outputId": "ce8b25b8-ebd7-4c04-91ff-1cf8ddd89560"
      },
      "execution_count": null,
      "outputs": [
        {
          "output_type": "stream",
          "name": "stdout",
          "text": [
            "enter student score: 103\n",
            "out of range\n"
          ]
        }
      ]
    },
    {
      "cell_type": "code",
      "source": [
        "score=int(input(\"enter the degree\"))\n",
        "if 99>=score!=50:\n",
        "  print(\"win\")\n",
        "elif score==50:\n",
        "  print(\"scary situation\")\n",
        "elif score==100:\n",
        "  print(\"winning a prize pool\")\n",
        "else:\n",
        "  print(\"he is a loser\")"
      ],
      "metadata": {
        "colab": {
          "base_uri": "https://localhost:8080/"
        },
        "id": "_A6cqZaiCWLf",
        "outputId": "84197c5b-48fa-4cd2-a075-d2e79d38dc25"
      },
      "execution_count": null,
      "outputs": [
        {
          "output_type": "stream",
          "name": "stdout",
          "text": [
            "enter the degree50\n",
            "scary situation\n"
          ]
        }
      ]
    },
    {
      "cell_type": "code",
      "source": [
        "food=input(\"what do you want : \")\n",
        "food_1=food.lower()\n",
        "if food_1 == \"shawerma\":\n",
        " print(\"we don't have shawerma \")\n",
        "else:\n",
        " print(\"yes we have your order\")"
      ],
      "metadata": {
        "colab": {
          "base_uri": "https://localhost:8080/"
        },
        "id": "YJBNPHpMFMAi",
        "outputId": "a64ac335-d90a-4f3a-d58f-2a463e50ef4e"
      },
      "execution_count": null,
      "outputs": [
        {
          "output_type": "stream",
          "name": "stdout",
          "text": [
            "what do you want : Shawerma\n",
            "we don't have shawerma \n"
          ]
        }
      ]
    },
    {
      "cell_type": "code",
      "source": [
        "q=input(\"enter your order \") # Clear Code\n",
        "t=q.lower()\n",
        "if t==\"shawerma\":\n",
        "    print(f\"we do not have {q}\")\n",
        "else:\n",
        "    print(f\"we have {q}\")"
      ],
      "metadata": {
        "colab": {
          "base_uri": "https://localhost:8080/"
        },
        "id": "V9nqVlKaFgce",
        "outputId": "096b34b5-2ec7-4e8b-bbd9-64af96756818"
      },
      "execution_count": null,
      "outputs": [
        {
          "output_type": "stream",
          "name": "stdout",
          "text": [
            "enter your order Shawerma\n",
            "we do not have Shawerma\n"
          ]
        }
      ]
    },
    {
      "cell_type": "code",
      "source": [
        "a = input(\"enter food: \").lower() # Creative Code\n",
        "spell = [\"shawerma\",\"shawarma\"]\n",
        "if not (a in spell):\n",
        "    print(\"success!\")\n",
        "else:\n",
        "    print(\"we do not have shawerma\")"
      ],
      "metadata": {
        "colab": {
          "base_uri": "https://localhost:8080/"
        },
        "id": "DENs6kiaF19a",
        "outputId": "645d0679-435f-4bd8-c23a-b1d58ae84c9b"
      },
      "execution_count": null,
      "outputs": [
        {
          "output_type": "stream",
          "name": "stdout",
          "text": [
            "enter food: Pizza\n",
            "success!\n"
          ]
        }
      ]
    },
    {
      "cell_type": "code",
      "source": [
        "X=input(\"Enter Food \")\n",
        "Q=X.lower()\n",
        "if(Q==\"shawerma\"):\n",
        "   print(\"We don't Have\")\n",
        "else:\n",
        "   print(\"We Have\")\n",
        "\n",
        "print(X)"
      ],
      "metadata": {
        "colab": {
          "base_uri": "https://localhost:8080/"
        },
        "id": "LVIVY5Z9F68D",
        "outputId": "3f9228cc-1a41-4f72-949e-f5196583a2fd"
      },
      "execution_count": null,
      "outputs": [
        {
          "output_type": "stream",
          "name": "stdout",
          "text": [
            "Enter Food Shawerma\n",
            "We don't Have\n",
            "Shawerma\n"
          ]
        }
      ]
    },
    {
      "cell_type": "code",
      "source": [
        "X=input(\"Enter Food \")\n",
        "X=X.lower()\n",
        "\n",
        "if X != \"shawerma\":\n",
        "  print(\"We have \")\n"
      ],
      "metadata": {
        "id": "9jjbRfL5Jin5"
      },
      "execution_count": null,
      "outputs": []
    }
  ]
}