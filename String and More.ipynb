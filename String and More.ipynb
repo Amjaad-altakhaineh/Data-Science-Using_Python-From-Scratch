{
  "cells": [
    {
      "cell_type": "markdown",
      "metadata": {
        "id": "KIc1-KonoKJl"
      },
      "source": [
        "\n",
        "## Strings (How Python understands human language)\n",
        "\n",
        "* [Creating a String](#creating-a-string)\n",
        "* [String Concatenation](#string-concatenation)\n",
        "* [Escape Sequences in Strings](#escape-sequences-in-strings)\n",
        "* String Formatting\n",
        "    * [Old Style String Formatting (% Operator)](#old-style-string-formatting)\n",
        "    * [New Style String Formatting (str.format)](#new-style-string-formatting)\n",
        "    * [String Interpolation / f-Strings (Python 3.6+)](#string-interpolation-f-strings)\n",
        "* Python Strings as Sequences of Characters\n",
        "    * [Unpacking Characters](#unpacking-characters)\n",
        "    * [Accessing Characters in Strings by Index](#accessing-characters-in-strings-by-index)\n",
        "    * [Slicing Python Strings](#slicing-python-strings)\n",
        "    * [Reversing a String](#reversing-a-string)\n",
        "    * [Skipping Characters While Slicing](#skipping-characters-while-slicing)\n",
        "* [String Methods](#string-methods)\n",
        "* [💻 Exercises - Day 4](#exercises-day-4)\n",
        "\n",
        "\n"
      ]
    },
    {
      "cell_type": "markdown",
      "metadata": {
        "id": "6BoBPCYMoKJn"
      },
      "source": [
        "![image.png](attachment:image.png)"
      ]
    },
    {
      "cell_type": "markdown",
      "metadata": {
        "id": "ER3lSVe4oKJo"
      },
      "source": [
        "## Strings\n",
        "________________________________________\n",
        "Text is a string data type. Any data type written as text is a string. Any data under single, double or triple quote are strings. There are different string methods and built-in functions to deal with string data types. To check the length of a string use the len() method.\n",
        "\n",
        "Creating a String"
      ]
    },
    {
      "cell_type": "code",
      "execution_count": null,
      "metadata": {
        "id": "K2sJOGSOoKJo"
      },
      "outputs": [],
      "source": [
        "letter = 'P'                # A string could be a single character or a bunch of texts\n",
        "print(letter)               # P\n",
        "print(len(letter))          # 1\n",
        "greeting = 'Hello, World!'  # String could be made using a single or double quote,\"Hello, World!\"\n",
        "print(greeting)             # Hello, World!\n",
        "print(len(greeting))        # 13\n",
        "sentence = \"I hope you are enjoying 30 days of Python Challenge\"\n",
        "print(sentence)"
      ]
    },
    {
      "cell_type": "markdown",
      "metadata": {
        "id": "Lu4OHSMAoKJo"
      },
      "source": [
        "Multiline string is created by using triple single (''') or triple double quotes (\"\"\"). See the example below."
      ]
    },
    {
      "cell_type": "code",
      "execution_count": null,
      "metadata": {
        "id": "KYGjkcNOoKJp"
      },
      "outputs": [],
      "source": [
        "multiline_string = '''I am a teacher and enjoy teaching.\n",
        "I didn't find anything as rewarding as empowering people.\n",
        "That is why I created 30 days of python.'''\n",
        "print(multiline_string)\n",
        "\n",
        "# Another way of doing the same thing\n",
        "multiline_string = \"\"\"I am a teacher and enjoy teaching.\n",
        "I didn't find anything as rewarding as empowering people.\n",
        "That is why I created 30 days of python.\"\"\"\n",
        "print(multiline_string)"
      ]
    },
    {
      "cell_type": "markdown",
      "metadata": {
        "id": "5SimGvqkoKJp"
      },
      "source": [
        "## String Concatenation\n",
        "___________________________________________\n",
        "\n",
        "We can connect strings together. Merging or connecting strings is called concatenation. See the example below:"
      ]
    },
    {
      "cell_type": "code",
      "execution_count": null,
      "metadata": {
        "id": "s6o4J_suoKJp"
      },
      "outputs": [],
      "source": [
        "first_name = 'Asabeneh'\n",
        "last_name = 'Yetayeh'\n",
        "space = ' '\n",
        "full_name = first_name  +  space + last_name\n",
        "print(full_name) # Asabeneh Yetayeh\n",
        "# Checking the length of a string using len() built-in function\n",
        "print(len(first_name))  # 8\n",
        "print(len(last_name))   # 7\n",
        "print(len(first_name) > len(last_name)) # True\n",
        "print(len(full_name)) # 16"
      ]
    },
    {
      "cell_type": "markdown",
      "metadata": {
        "id": "NRRBTzKQoKJp"
      },
      "source": [
        "## Escape Sequences in Strings\n",
        "In Python and other programming languages \\ followed by a character is an escape sequence. Let us see the most common escape characters:\n",
        "\n",
        "- \\n: new line\n",
        "- \\t: Tab means(8 spaces)\n",
        "- \\\\: Back slash\n",
        "- \\': Single quote (')\n",
        "- \\\": Double quote (\")\n",
        "Now, let us see the use of the above escape sequences with examples."
      ]
    },
    {
      "cell_type": "code",
      "execution_count": null,
      "metadata": {
        "id": "T4XaGiHSoKJp"
      },
      "outputs": [],
      "source": [
        "print('I hope everyone is enjoying the Python Challenge.\\nAre you ?') # line break\n",
        "print('Days\\tTopics\\tExercises') # adding tab space or 4 spaces\n",
        "print('Day 1\\t5\\t5')\n",
        "print('Day 2\\t6\\t20')\n",
        "print('Day 3\\t5\\t23')\n",
        "print('Day 4\\t1\\t35')\n",
        "print('This is a backslash  symbol (\\\\)') # To write a backslash\n",
        "print('In every programming language it starts with \\\"Hello, World!\\\"') # to write a double quote inside a single quote\n",
        "\n",
        "\n",
        "\n",
        "# output\n",
        "# I hope every one is enjoying the Python Challenge.\n",
        "# Are you ?\n",
        "Days\tTopics\tExercises\n",
        "Day 1\t5\t    5\n",
        "Day 2\t6\t    20\n",
        "Day 3\t5\t    23\n",
        "Day 4\t1\t    35\n",
        "This is a backslash  symbol (\\)\n",
        "In every programming language it starts with \"Hello, World!\""
      ]
    },
    {
      "cell_type": "markdown",
      "metadata": {
        "id": "6msdVeu5oKJq"
      },
      "source": [
        "## String formatting\n",
        "__________________________________________\n",
        "Old Style String Formatting (% Operator)\n",
        "In Python there are many ways of formatting strings. In this section, we will cover some of them. The \"%\" operator is used to format a set of variables enclosed in a \"tuple\" (a fixed size list), together with a format string, which contains normal text together with \"argument specifiers\", special symbols like \"%s\", \"%d\", \"%f\", \"%.number of digitsf\".\n",
        "\n",
        "%s - String (or any object with a string representation, like numbers)\n",
        "%d - Integers\n",
        "%f - Floating point numbers\n",
        "\"%.number of digitsf\" - Floating point numbers with fixed precision"
      ]
    },
    {
      "cell_type": "code",
      "execution_count": null,
      "metadata": {
        "id": "fJJPjFXCoKJq"
      },
      "outputs": [],
      "source": [
        "# Strings only\n",
        "first_name = 'Asabeneh'\n",
        "last_name = 'Yetayeh'\n",
        "language = 'Python'\n",
        "formated_string = 'I am %s %s. I teach %s' %(first_name, last_name, language)\n",
        "print(formated_string)\n",
        "\n",
        "# Strings  and numbers\n",
        "radius = 10\n",
        "pi = 3.14\n",
        "area = pi * radius ** 2\n",
        "formated_string = 'The area of circle with a radius %d is %.2f.' %(radius, area) # 2 refers the 2 significant digits after the point\n",
        "\n",
        "python_libraries = ['Django', 'Flask', 'NumPy', 'Matplotlib','Pandas']\n",
        "formated_string = 'The following are python libraries:%s' % (python_libraries)\n",
        "print(formated_string) # \"The following are python libraries:['Django', 'Flask', 'NumPy', 'Matplotlib','Pandas']\""
      ]
    },
    {
      "cell_type": "markdown",
      "metadata": {
        "id": "z_NVhoYvoKJq"
      },
      "source": [
        "## New Style String Formatting (str.format) (Self Study )\n",
        "\n",
        "This formatting is introduced in Python version 3"
      ]
    },
    {
      "cell_type": "code",
      "execution_count": null,
      "metadata": {
        "id": "utI2_pk9oKJq"
      },
      "outputs": [],
      "source": [
        "\n",
        "first_name = 'Asabeneh'\n",
        "last_name = 'Yetayeh'\n",
        "language = 'Python'\n",
        "formated_string = 'I am {} {}. I teach {}'.format(first_name, last_name, language)\n",
        "print(formated_string)\n",
        "a = 4\n",
        "b = 3\n",
        "\n",
        "print('{} + {} = {}'.format(a, b, a + b))\n",
        "print('{} - {} = {}'.format(a, b, a - b))\n",
        "print('{} * {} = {}'.format(a, b, a * b))\n",
        "print('{} / {} = {:.2f}'.format(a, b, a / b)) # limits it to two digits after decimal\n",
        "print('{} % {} = {}'.format(a, b, a % b))\n",
        "print('{} // {} = {}'.format(a, b, a // b))\n",
        "print('{} ** {} = {}'.format(a, b, a ** b))\n",
        "\n",
        "# output\n",
        "4 + 3 = 7\n",
        "4 - 3 = 1\n",
        "4 * 3 = 12\n",
        "4 / 3 = 1.33\n",
        "4 % 3 = 1\n",
        "4 // 3 = 1\n",
        "4 ** 3 = 64\n",
        "\n",
        "# Strings  and numbers\n",
        "radius = 10\n",
        "pi = 3.14\n",
        "area = pi * radius ** 2\n",
        "formated_string = 'The area of a circle with a radius {} is {:.2f}.'.format(radius, area) # 2 digits after decimal\n",
        "print(formated_string)\n"
      ]
    },
    {
      "cell_type": "markdown",
      "metadata": {
        "id": "3-X0XSpdoKJq"
      },
      "source": [
        "## Python Strings as Sequences of Characters\n",
        "\n",
        "Python strings are sequences of characters, and share their basic methods of access with other Python ordered sequences of objects – lists and tuples. The simplest way of extracting single characters from strings (and individual members from any sequence) is to unpack them into corresponding variables."
      ]
    },
    {
      "cell_type": "code",
      "execution_count": null,
      "metadata": {
        "id": "M-t7EkLdoKJr",
        "outputId": "9855586f-0c0f-4362-8385-0b768582a818"
      },
      "outputs": [
        {
          "name": "stdout",
          "output_type": "stream",
          "text": [
            "P\n",
            "y\n",
            "t\n",
            "h\n",
            "o\n",
            "n\n"
          ]
        }
      ],
      "source": [
        "language = 'Python'\n",
        "a,b,c,d,e,f = language # unpacking sequence characters into variables\n",
        "print(a) # P\n",
        "print(b) # y\n",
        "print(c) # t\n",
        "print(d) # h\n",
        "print(e) # o\n",
        "print(f) # n"
      ]
    },
    {
      "cell_type": "markdown",
      "metadata": {
        "id": "EL2jDbyWoKJr"
      },
      "source": [
        "## Accessing Characters in Strings by Index\n",
        "In programming counting starts from zero. Therefore the first letter of a string is at zero index and the last letter of a string is the length of a string minus one."
      ]
    },
    {
      "cell_type": "markdown",
      "metadata": {
        "id": "D15p7gHAoKJr"
      },
      "source": [
        "![image.png](attachment:image.png)"
      ]
    },
    {
      "cell_type": "code",
      "execution_count": null,
      "metadata": {
        "id": "OqQ-UW-uoKJr"
      },
      "outputs": [],
      "source": [
        "language = 'Python'\n",
        "first_letter = language[0]\n",
        "print(first_letter) # P\n",
        "second_letter = language[1]\n",
        "print(second_letter) # y\n",
        "last_index = len(language) - 1\n",
        "last_letter = language[last_index]\n",
        "print(last_letter) # n"
      ]
    },
    {
      "cell_type": "markdown",
      "metadata": {
        "id": "v5fkiwS-oKJs"
      },
      "source": [
        "## Slicing Python Strings\n",
        "In python we can slice strings into substrings."
      ]
    },
    {
      "cell_type": "code",
      "execution_count": null,
      "metadata": {
        "id": "XfoyrCg5oKJs"
      },
      "outputs": [],
      "source": [
        "language = 'Python'\n",
        "first_three = language[0:3] # starts at zero index and up to 3 but not include 3\n",
        "print(first_three) #Pyt\n",
        "last_three = language[3:6]\n",
        "print(last_three) # hon\n",
        "# Another way\n",
        "last_three = language[-3:]\n",
        "print(last_three)   # hon\n",
        "last_three = language[3:]\n",
        "print(last_three)   # hon"
      ]
    },
    {
      "cell_type": "markdown",
      "metadata": {
        "id": "t_WkQIEgoKJs"
      },
      "source": [
        "## Reversing a String\n",
        "We can easily reverse strings in python."
      ]
    },
    {
      "cell_type": "code",
      "execution_count": null,
      "metadata": {
        "id": "cp05EJFOoKJs"
      },
      "outputs": [],
      "source": [
        "greeting = 'Hello, World!'\n",
        "print(greeting[::-1]) # !dlroW ,olleH"
      ]
    },
    {
      "cell_type": "markdown",
      "metadata": {
        "id": "sD7Sa6P9oKJs"
      },
      "source": [
        "## Skipping Characters While Slicing\n",
        "It is possible to skip characters while slicing by passing step argument to slice method"
      ]
    },
    {
      "cell_type": "code",
      "execution_count": null,
      "metadata": {
        "id": "0kQgngufoKJs"
      },
      "outputs": [],
      "source": [
        "language = 'Python'\n",
        "pto = language[0:6:2] #\n",
        "print(pto) # Pto\n",
        "#####################################\n",
        "text = \"Hello, World!\"\n",
        "sliced_text = text[::2]\n",
        "print(sliced_text)  # Output: \"HloWrd\"\n",
        "#####################################\n",
        "text = \"Python is awesome!\"\n",
        "sliced_text = text[::-2]\n",
        "print(sliced_text)  # Output: \"!eo snto yh\"\n",
        "#####################################\n",
        "text = \"abcdefghijklmnopqrstuvwxyz\"\n",
        "sliced_text = text[2::3]\n",
        "print(sliced_text)  # Output: \"cfilorux\"\n",
        "####################################\n",
        "text = \"abcdefghijk\"\n",
        "sliced_text = text[5::-4]\n",
        "print(sliced_text)  # Output: \"fed\"\n",
        "###################################\n"
      ]
    },
    {
      "cell_type": "markdown",
      "metadata": {
        "id": "Rj3qarx2oKJs"
      },
      "source": [
        "## String Methods\n",
        "There are many string methods which allow us to format strings. See some of the string methods in the following example:\n"
      ]
    },
    {
      "cell_type": "code",
      "execution_count": null,
      "metadata": {
        "id": "at4tobatoKJs"
      },
      "outputs": [],
      "source": [
        "\n",
        "# 1- capitalize(): Converts the first character of the string to a capital letter\n",
        "challenge = 'thirty days of python'\n",
        "print(challenge.capitalize())  # 'Thirty days of python'\n",
        "\n",
        "# 2- count(): Returns occurrences of a substring in string, count(substring, start=.., end=..).\n",
        "# The start is the starting index for counting and the end is the last index to count.\n",
        "print(challenge.count('y'))  # 3\n",
        "print(challenge.count('y', 7, 14))  # 1\n",
        "print(challenge.count('th'))  # 2\n",
        "\n",
        "# 3- endswith(): Checks if a string ends with a specified ending\n",
        "print(challenge.endswith('on'))  # True\n",
        "print(challenge.endswith('tion'))  # False\n",
        "\n",
        "# 4- expandtabs(): Replaces tab character with spaces, default tab size is 8. It takes tab size as an argument.\n",
        "challenge = 'thirty\\tdays\\tof\\tpython'\n",
        "print(challenge.expandtabs())  # 'thirty  days    of      python'\n",
        "print(challenge.expandtabs(10))  # 'thirty    days      of        python'\n",
        "\n",
        "# 5- find(): Returns the index of the first occurrence of a substring, if not found returns -1\n",
        "print(challenge.find('y'))  # 5\n",
        "print(challenge.find('th'))  # 0\n",
        "\n",
        "# 6- rfind(): Returns the index of the last occurrence of a substring, if not found returns -1\n",
        "print(challenge.rfind('y'))  # 16\n",
        "print(challenge.rfind('th'))  # 17\n",
        "\n",
        "# 7- format(): Formats string into a nicer output\n",
        "first_name = 'Asabeneh'\n",
        "last_name = 'Yetayeh'\n",
        "age = 250\n",
        "job = 'teacher'\n",
        "country = 'Finland'\n",
        "sentence = 'I am {} {}. I am a {}. I am {} years old. I live in {}.'.format(first_name, last_name, age, job, country)\n",
        "print(sentence)  # I am Asabeneh Yetayeh. I am a teacher. I am 250 years old. I live in Finland.\n",
        "\n",
        "radius = 10\n",
        "pi = 3.14\n",
        "area = pi * radius ** 2\n",
        "result = 'The area of a circle with radius {} is {}'.format(str(radius), str(area))\n",
        "print(result)  # The area of a circle with radius 10 is 314\n",
        "\n",
        "# 8- index(): Returns the lowest index of a substring, additional arguments indicate starting and ending index (default 0 and string length - 1).\n",
        "# If the substring is not found it raises a ValueError.\n",
        "sub_string = 'da'\n",
        "print(challenge.index(sub_string))  # 7\n",
        "# print(challenge.index(sub_string, 9))  # error\n",
        "\n",
        "# 9- rindex(): Returns the highest index of a substring, additional arguments indicate starting and ending index (default 0 and string length - 1)\n",
        "print(challenge.rindex(sub_string))  # 8\n",
        "# print(challenge.rindex(sub_string, 9))  # error\n",
        "\n",
        "# 10- isalnum(): Checks if all characters are alphanumeric\n",
        "print('ThirtyDaysPython'.isalnum())  # True\n",
        "print('30DaysPython'.isalnum())  # True\n",
        "print('thirty days of python'.isalnum())  # False, space is not an alphanumeric character\n",
        "print('thirty days of python 2019'.isalnum())  # False\n",
        "\n",
        "# 11- isalpha(): Checks if all string elements are alphabet characters (a-z and A-Z)\n",
        "print('thirty days of python'.isalpha())  # False, space is excluded\n",
        "print('ThirtyDaysPython'.isalpha())  # True\n",
        "print('123'.isalpha())  # False\n",
        "\n",
        "# 12- isdecimal(): Checks if all characters in a string are decimal (0-9)\n",
        "print('thirty days of python'.isdecimal())  # False\n",
        "print('123'.isdecimal())  # True\n",
        "print('\\u00B2'.isdecimal())  # False\n",
        "print('12 3'.isdecimal())  # False, space not allowed\n",
        "\n",
        "# 13- isdigit(): Checks if all characters in a string are numbers (0-9 and some other Unicode characters for numbers)\n",
        "print('Thirty'.isdigit())  # False\n",
        "print('30'.isdigit())  # True\n",
        "print('\\u00B2'.isdigit())  # True\n",
        "\n",
        "# 14- isnumeric(): Checks if all characters in a string are numbers or number related (just like isdigit(), but accepts more symbols, like ½)\n",
        "print('10'.isnumeric())  # True\n",
        "print('\\u00BD'.isnumeric())  # True\n",
        "print('10.5'.isnumeric())  # False\n",
        "\n",
        "# 15- isidentifier(): Checks for a valid identifier - it checks if a string is a valid variable name\n",
        "print('30DaysOfPython'.isidentifier())  # False, because it starts with a number\n",
        "print('thirty_days_of_python'.isidentifier())  # True\n",
        "\n",
        "# 16- islower(): Checks if all alphabet characters in the string are lowercase\n",
        "print('thirty days of python'.islower())  # True\n",
        "print('Thirty days of python'.islower())  # False\n",
        "\n",
        "# 17- isupper(): Checks if all alphabet characters in the string are uppercase\n",
        "print('thirty days of python'.isupper())  # False\n",
        "print('THIRTY DAYS OF PYTHON'.isupper())  # True\n",
        "\n",
        "# 18- join(): Returns a concatenated string\n",
        "web_tech = ['HTML', 'CSS', 'JavaScript', 'React']\n",
        "print(' '.join(web_tech))  # 'HTML CSS JavaScript React'\n",
        "print('# '.join(web_tech))  # 'HTML# CSS# JavaScript# React'\n",
        "\n",
        "# 19- strip(): Removes all given characters starting from the beginning and end of the string\n",
        "challenge = 'thirty days of pythoonnn'\n",
        "print(challenge.strip('noth'))  # 'irty days of py'\n",
        "\n",
        "# 20- replace(): Replaces a substring with a given string\n",
        "print(challenge.replace('python', 'coding'))  # 'thirty days of coding'\n",
        "\n",
        "# 21- split(): Splits the string using a given string or space as a separator\n",
        "challenge = 'thirty days of python'\n",
        "print(challenge.split())  # ['thirty', 'days', 'of', 'python']\n",
        "challenge = 'thirty, days, of, python'\n",
        "print(challenge.split(', '))  # ['thirty', 'days', 'of', 'python']\n",
        "\n",
        "# 22- title(): Returns a title cased string\n",
        "print(challenge.title())  # Thirty Days Of Python\n",
        "\n",
        "# 23- swapcase(): Converts all uppercase characters to lowercase and all lowercase characters to uppercase\n",
        "print(challenge.swapcase())  # THIRTY DAYS OF PYTHON\n",
        "challenge = 'Thirty Days Of Python'\n",
        "print(challenge.swapcase())  # tHIRTY dAYS oF pYTHON\n",
        "\n",
        "# 24- startswith(): Checks if a string starts with the specified string\n",
        "print(challenge.startswith('thirty'))  # True\n",
        "challenge = '30 days of python'\n",
        "print(challenge.startswith('thirty'))  # False\n"
      ]
    },
    {
      "cell_type": "markdown",
      "metadata": {
        "id": "ALhs5TPZoKJt"
      },
      "source": [
        "# Exercises\n",
        "\n",
        "1. Concatenate the string 'Thirty', 'Days', 'Of', 'Python' to a single string, 'Thirty Days Of Python'.\n",
        "\n",
        "2. Concatenate the string 'Coding', 'For', 'All' to a single string, 'Coding For All'.\n",
        "\n",
        "3. Declare a variable named company and assign it to an initial value \"Coding For All\".\n",
        "\n",
        "4. Print the variable company using print().\n",
        "\n",
        "5. Print the length of the company string using len() method and print().\n",
        "\n",
        "6. Change all the characters to uppercase letters using upper() method.\n",
        "\n",
        "7. Change all the characters to lowercase letters using lower() method.\n",
        "\n",
        "8. Use capitalize(), title(), swapcase() methods to format the value of the string Coding For All.\n",
        "\n",
        "9. Cut(slice) out the first word of Coding For All string.\n",
        "\n",
        "10. Check if Coding For All string contains a word Coding using the method index, find or other methods.\n",
        "\n",
        "11. Replace the word coding in the string 'Coding For All' to Python.\n",
        "\n",
        "12. Change Python for Everyone to Python for All using the replace method or other methods.\n",
        "\n",
        "13. Split the string 'Coding For All' using space as the separator (split()).\n",
        "\n",
        "14. \"Facebook, Google, Microsoft, Apple, IBM, Oracle, Amazon\" split the string at the comma.\n",
        "\n",
        "15. What is the character at index 0 in the string Coding For All.\n",
        "\n",
        "16. What is the last index of the string Coding For All.\n",
        "\n",
        "17. What character is at index 10 in \"Coding For All\" string.\n",
        "\n",
        "18. Create an acronym or an abbreviation for the name 'Python For Everyone'.\n",
        "\n",
        "19. Create an acronym or an abbreviation for the name 'Coding For All'.\n",
        "\n",
        "20. Use index to determine the position of the first occurrence of C in Coding For All.\n",
        "\n",
        "21. Use index to determine the position of the first occurrence of F in Coding For All.\n",
        "\n",
        "22. Use rfind to determine the position of the last occurrence of l in Coding For All People.\n",
        "\n",
        "23. Use index or find to find the position of the first occurrence of the word 'because' in the following sentence: 'You cannot end a sentence with because because because is a conjunction'.\n",
        "\n",
        "24. Use rindex to find the position of the last occurrence of the word because in the following sentence: 'You cannot end a sentence with because because because is a conjunction'.\n",
        "\n",
        "25. Slice out the phrase 'because because because' in the following sentence: 'You cannot end a sentence with because because because is a conjunction'.\n",
        "\n",
        "26. Find the position of the first occurrence of the word 'because' in the following sentence: 'You cannot end a sentence with because because because is a conjunction'.\n",
        "\n",
        "27. Slice out the phrase 'because because because' in the following sentence: 'You cannot end a sentence with because because because is a conjunction'.\n",
        "\n",
        "28. Does ''Coding For All' start with a substring Coding?\n",
        "\n",
        "29. Does 'Coding For All' end with a substring coding?\n",
        "\n",
        "30. '   Coding For All      '  , remove the left and right trailing spaces in the given string.\n",
        "\n",
        "31. Which one of the following variables return True when we use the method isidentifier():\n",
        "    - 30DaysOfPython\n",
        "    - thirty_days_of_python\n",
        "\n",
        "32. The following list contains the names of some of python libraries: ['Django', 'Flask', 'Bottle', 'Pyramid', 'Falcon']. Join the list with a hash with space string.\n",
        "\n",
        "33. Use the new line escape sequence to separate the following sentences.\n",
        "    - I am enjoying this challenge.\n",
        "    - I just wonder what is next.\n",
        "\n",
        "34. Use a tab escape sequence to write the following lines.\n",
        "    - Name      Age     Country   City\n",
        "    - Asabeneh  250     Finland   Helsinki\n",
        "\n",
        "35. Use the string formatting method to display the following:\n",
        "    - radius = 10\n",
        "    - area = 3.14 * radius ** 2\n",
        "    - The area of a circle with radius 10 is 314 meters square.\n",
        "\n",
        "36. Make the following using string formatting methods:\n",
        "    - 8 + 6 = 14\n",
        "    - 8 - 6 = 2\n",
        "    - 8 * 6 = 48\n",
        "    - 8 / 6 = 1.33\n",
        "    - 8 % 6 = 2\n",
        "    - 8 // 6 = 1\n",
        "    - 8 ** 6 = 262144\n"
      ]
    },
    {
      "cell_type": "markdown",
      "metadata": {
        "id": "bhBJai8yoKJt"
      },
      "source": []
    }
  ],
  "metadata": {
    "kernelspec": {
      "display_name": "Python 3",
      "language": "python",
      "name": "python3"
    },
    "language_info": {
      "codemirror_mode": {
        "name": "ipython",
        "version": 3
      },
      "file_extension": ".py",
      "mimetype": "text/x-python",
      "name": "python",
      "nbconvert_exporter": "python",
      "pygments_lexer": "ipython3",
      "version": "3.10.4"
    },
    "colab": {
      "provenance": []
    }
  },
  "nbformat": 4,
  "nbformat_minor": 0
}